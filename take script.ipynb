{
 "cells": [
  {
   "cell_type": "code",
   "execution_count": 1,
   "id": "956e25f5",
   "metadata": {},
   "outputs": [],
   "source": [
    "import pandas as pd"
   ]
  },
  {
   "cell_type": "code",
   "execution_count": 2,
   "id": "e1f69ac3",
   "metadata": {},
   "outputs": [],
   "source": [
    "sql_final = \"\"\n"
   ]
  },
  {
   "cell_type": "code",
   "execution_count": 3,
   "id": "2eda2aa0",
   "metadata": {},
   "outputs": [],
   "source": [
    "df = pd.read_csv(\"table_source.csv\")\n",
    "for table in df['TABLE_NAME']:\n",
    "    sql = f\"EXEC sys.sp_cdc_enable_table\\n@source_schema = N'dbo',\\n@source_name   = N'{table}',\\n@role_name     = null,  \\n@supports_net_changes = 0\\nGO\\n\"\n",
    "    sql_final = sql_final + sql\n",
    "f = open(\"script_cdc_table.sql\",\"w\")\n",
    "f.write(sql_final)\n",
    "f.close()"
   ]
  }
 ],
 "metadata": {
  "kernelspec": {
   "display_name": "Python 3 (ipykernel)",
   "language": "python",
   "name": "python3"
  },
  "language_info": {
   "codemirror_mode": {
    "name": "ipython",
    "version": 3
   },
   "file_extension": ".py",
   "mimetype": "text/x-python",
   "name": "python",
   "nbconvert_exporter": "python",
   "pygments_lexer": "ipython3",
   "version": "3.10.4"
  }
 },
 "nbformat": 4,
 "nbformat_minor": 5
}
