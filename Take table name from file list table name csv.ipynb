{
 "cells": [
  {
   "cell_type": "code",
   "execution_count": 1,
   "id": "e25405ff",
   "metadata": {},
   "outputs": [],
   "source": [
    "import pandas as pd"
   ]
  },
  {
   "cell_type": "code",
   "execution_count": 2,
   "id": "f60b336c",
   "metadata": {},
   "outputs": [],
   "source": [
    "table_final = \"\""
   ]
  },
  {
   "cell_type": "code",
   "execution_count": 4,
   "id": "374e7a40",
   "metadata": {},
   "outputs": [],
   "source": [
    "df = pd.read_csv(\"table_source.csv\")\n",
    "for table in df['TABLE_NAME']:\n",
    "    table = f\"'dbo.{table}', \"\n",
    "    table_final = table_final + table\n",
    "table_final = table_final[:-2]\n",
    "f = open(\"cdc_table.txt\",\"w\")\n",
    "f.write(table_final)\n",
    "f.close()"
   ]
  }
 ],
 "metadata": {
  "kernelspec": {
   "display_name": "Python 3 (ipykernel)",
   "language": "python",
   "name": "python3"
  },
  "language_info": {
   "codemirror_mode": {
    "name": "ipython",
    "version": 3
   },
   "file_extension": ".py",
   "mimetype": "text/x-python",
   "name": "python",
   "nbconvert_exporter": "python",
   "pygments_lexer": "ipython3",
   "version": "3.10.4"
  }
 },
 "nbformat": 4,
 "nbformat_minor": 5
}
