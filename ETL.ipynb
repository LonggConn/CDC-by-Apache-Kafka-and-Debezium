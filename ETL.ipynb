{
 "cells": [
  {
   "cell_type": "code",
   "execution_count": 1,
   "id": "48f28def",
   "metadata": {},
   "outputs": [],
   "source": [
    "#import needed libraries\n",
    "from sqlalchemy import create_engine, text\n",
    "import pandas as pd\n",
    "import os\n",
    "import time"
   ]
  },
  {
   "cell_type": "code",
   "execution_count": 2,
   "id": "85d5e7de",
   "metadata": {},
   "outputs": [],
   "source": [
    "#Destination config\n",
    "username = ''\n",
    "password = ''\n",
    "hostname = ''\n",
    "port = ''\n",
    "database_destination = ''\n",
    "database_source = ''\n",
    "prefix = ''\n",
    "list_table_name = []\n",
    "file_dir_table = r'C:\\Users\\Long\\Untitled Folder\\table.txt'\n",
    "file_dir_config = r'C:\\Users\\Long\\Untitled Folder\\config.txt'\n",
    "file_dir_log = r'C:\\Users\\Long\\Untitled Folder'+f'\\cdc_log_{database_source}.txt'"
   ]
  },
  {
   "cell_type": "code",
   "execution_count": 3,
   "id": "bd89a25d",
   "metadata": {},
   "outputs": [],
   "source": [
    "def take_table_name_from_file(file_dir):\n",
    "    with open(file_dir) as f:\n",
    "        lines = f.readlines()\n",
    "        f.close()\n",
    "    list_table_tmp = lines[0].split(\",\")\n",
    "    for item in list_table_tmp:\n",
    "        if(item[0] == ' '):\n",
    "            item = item[1:]\n",
    "        list_table_name.append(item)\n",
    "    f.close()"
   ]
  },
  {
   "cell_type": "code",
   "execution_count": 4,
   "id": "c0808e42",
   "metadata": {},
   "outputs": [],
   "source": [
    "def take_config_from_file(file_dir):\n",
    "    with open(file_dir) as f:\n",
    "        lines = f.readlines()\n",
    "        f.close()\n",
    "    return lines[1]"
   ]
  },
  {
   "cell_type": "code",
   "execution_count": 5,
   "id": "2386c6ad",
   "metadata": {},
   "outputs": [],
   "source": [
    "take_table_name_from_file(file_dir_table)"
   ]
  },
  {
   "cell_type": "code",
   "execution_count": 6,
   "id": "f4976605",
   "metadata": {},
   "outputs": [],
   "source": [
    "#Use file config to take config\n",
    "username, password, hostname, port, database_destination, database_source, prefix \\\n",
    "= take_config_from_file(file_dir_config).split('\\t')"
   ]
  },
  {
   "cell_type": "code",
   "execution_count": 7,
   "id": "962e92e9",
   "metadata": {},
   "outputs": [],
   "source": [
    "engine_source = create_engine(f'mssql+pymssql://{username}:{password}@{hostname}:{port}/{database_source}') \n",
    "engine_target = create_engine(f'mssql+pymssql://{username}:{password}@{hostname}:{port}/{database_destination}') \n"
   ]
  },
  {
   "cell_type": "code",
   "execution_count": 8,
   "id": "27f982cd",
   "metadata": {},
   "outputs": [],
   "source": [
    "for table_name in list_table_name:\n",
    "    sql = \"TRUNCATE TABLE \" + f\"{table_name}\"\n",
    "    df = pd.read_sql(f'Select * from {table_name}', engine_source)\n",
    "    for index, row in df.iterrows():\n",
    "        with engine_target.begin() as conn:\n",
    "            conn.execute(text(sql))\n",
    "        mod = pd.DataFrame(row.to_frame().T)\n",
    "        table_name = table_name[4:]\n",
    "        mod.to_sql(f\"{table_name}\", engine_target, if_exists='append', index=False)\n",
    "        str_log = \"Row Insert \"\n",
    "        for col in mod.columns:\n",
    "            str_log  = str_log + mod[col].astype(str) + \" \"\n",
    "        f = open(f\"ETL_{table_name}_logs\", \"a\")\n",
    "        f.write(str_log.to_string() + \"\\n\")\n",
    "        f.close()"
   ]
  },
  {
   "cell_type": "code",
   "execution_count": null,
   "id": "032036be",
   "metadata": {},
   "outputs": [],
   "source": []
  }
 ],
 "metadata": {
  "kernelspec": {
   "display_name": "Python 3 (ipykernel)",
   "language": "python",
   "name": "python3"
  },
  "language_info": {
   "codemirror_mode": {
    "name": "ipython",
    "version": 3
   },
   "file_extension": ".py",
   "mimetype": "text/x-python",
   "name": "python",
   "nbconvert_exporter": "python",
   "pygments_lexer": "ipython3",
   "version": "3.10.10"
  }
 },
 "nbformat": 4,
 "nbformat_minor": 5
}
