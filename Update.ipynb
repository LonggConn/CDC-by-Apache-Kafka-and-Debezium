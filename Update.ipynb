{
 "cells": [
  {
   "cell_type": "code",
   "execution_count": 1,
   "id": "e8ac2555",
   "metadata": {},
   "outputs": [],
   "source": [
    "from sqlalchemy import create_engine, text\n",
    "import pandas as pd"
   ]
  },
  {
   "cell_type": "code",
   "execution_count": 2,
   "id": "16acb117",
   "metadata": {},
   "outputs": [],
   "source": [
    "username = 'sa'\n",
    "password = '1'\n",
    "hostname = 'DESKTOP-6BJG2TB'\n",
    "port = '1433'\n",
    "database_destination = 'DWH'"
   ]
  },
  {
   "cell_type": "code",
   "execution_count": 7,
   "id": "6332a940",
   "metadata": {},
   "outputs": [],
   "source": [
    "json = {'before': {'id': 1, 'first_name': 'Julee', 'last_name': 'Lequeux', 'email': 'jlequeux0@latimes.com', 'gender': 'Male', 'ip_address': '56.235.32.50'}, 'after': {'id': 1, 'first_name': 'Julee', 'last_name': 'Lequeux', 'email': 'jlequeux0@latimes.com', 'gender': 'Female', 'ip_address': '56.235.32.50'}, 'source': {'version': '2.0.1.Final', 'connector': 'sqlserver', 'name': 'DBCustomers', 'ts_ms': 1681095620260, 'snapshot': 'false', 'db': 'Customers', 'sequence': None, 'schema': 'dbo', 'table': 'CustomerDetails', 'change_lsn': '00000035:00006448:0002', 'commit_lsn': '00000035:00006448:0003', 'event_serial_no': 2}, 'op': 'u', 'ts_ms': 1681095623399, 'transaction': None}"
   ]
  },
  {
   "cell_type": "code",
   "execution_count": 8,
   "id": "224ec1b1",
   "metadata": {},
   "outputs": [
    {
     "data": {
      "text/html": [
       "<div>\n",
       "<style scoped>\n",
       "    .dataframe tbody tr th:only-of-type {\n",
       "        vertical-align: middle;\n",
       "    }\n",
       "\n",
       "    .dataframe tbody tr th {\n",
       "        vertical-align: top;\n",
       "    }\n",
       "\n",
       "    .dataframe thead th {\n",
       "        text-align: right;\n",
       "    }\n",
       "</style>\n",
       "<table border=\"1\" class=\"dataframe\">\n",
       "  <thead>\n",
       "    <tr style=\"text-align: right;\">\n",
       "      <th></th>\n",
       "      <th>before</th>\n",
       "      <th>after</th>\n",
       "      <th>source</th>\n",
       "      <th>op</th>\n",
       "      <th>ts_ms</th>\n",
       "      <th>transaction</th>\n",
       "    </tr>\n",
       "  </thead>\n",
       "  <tbody>\n",
       "    <tr>\n",
       "      <th>0</th>\n",
       "      <td>{'id': 1, 'first_name': 'Julee', 'last_name': ...</td>\n",
       "      <td>{'id': 1, 'first_name': 'Julee', 'last_name': ...</td>\n",
       "      <td>{'version': '2.0.1.Final', 'connector': 'sqlse...</td>\n",
       "      <td>u</td>\n",
       "      <td>1681095623399</td>\n",
       "      <td>None</td>\n",
       "    </tr>\n",
       "  </tbody>\n",
       "</table>\n",
       "</div>"
      ],
      "text/plain": [
       "                                              before  \\\n",
       "0  {'id': 1, 'first_name': 'Julee', 'last_name': ...   \n",
       "\n",
       "                                               after  \\\n",
       "0  {'id': 1, 'first_name': 'Julee', 'last_name': ...   \n",
       "\n",
       "                                              source op          ts_ms  \\\n",
       "0  {'version': '2.0.1.Final', 'connector': 'sqlse...  u  1681095623399   \n",
       "\n",
       "  transaction  \n",
       "0        None  "
      ]
     },
     "execution_count": 8,
     "metadata": {},
     "output_type": "execute_result"
    }
   ],
   "source": [
    "df = pd.DataFrame([json])\n",
    "df"
   ]
  },
  {
   "cell_type": "code",
   "execution_count": 11,
   "id": "206541eb",
   "metadata": {},
   "outputs": [
    {
     "data": {
      "text/html": [
       "<div>\n",
       "<style scoped>\n",
       "    .dataframe tbody tr th:only-of-type {\n",
       "        vertical-align: middle;\n",
       "    }\n",
       "\n",
       "    .dataframe tbody tr th {\n",
       "        vertical-align: top;\n",
       "    }\n",
       "\n",
       "    .dataframe thead th {\n",
       "        text-align: right;\n",
       "    }\n",
       "</style>\n",
       "<table border=\"1\" class=\"dataframe\">\n",
       "  <thead>\n",
       "    <tr style=\"text-align: right;\">\n",
       "      <th></th>\n",
       "      <th>id</th>\n",
       "      <th>first_name</th>\n",
       "      <th>last_name</th>\n",
       "      <th>email</th>\n",
       "      <th>gender</th>\n",
       "      <th>ip_address</th>\n",
       "    </tr>\n",
       "  </thead>\n",
       "  <tbody>\n",
       "    <tr>\n",
       "      <th>0</th>\n",
       "      <td>1</td>\n",
       "      <td>Julee</td>\n",
       "      <td>Lequeux</td>\n",
       "      <td>jlequeux0@latimes.com</td>\n",
       "      <td>Male</td>\n",
       "      <td>56.235.32.50</td>\n",
       "    </tr>\n",
       "  </tbody>\n",
       "</table>\n",
       "</div>"
      ],
      "text/plain": [
       "   id first_name last_name                  email gender    ip_address\n",
       "0   1      Julee   Lequeux  jlequeux0@latimes.com   Male  56.235.32.50"
      ]
     },
     "execution_count": 11,
     "metadata": {},
     "output_type": "execute_result"
    }
   ],
   "source": [
    "cdc_table = pd.DataFrame([df.loc[0,'before']])\n",
    "cdc_table"
   ]
  },
  {
   "cell_type": "code",
   "execution_count": 10,
   "id": "a43a3811",
   "metadata": {},
   "outputs": [],
   "source": [
    "engine = create_engine(f'mssql+pymssql://{username}:{password}@{hostname}:{port}/{database_destination}')\n",
    "cdc_table.to_sql('temp', engine, if_exists='replace')\n",
    "\n",
    "sql = \"UPDATE CustomerDetails\" + \\\n",
    "\" SET first_name = t.first_name,\" + \\\n",
    "\" last_name = t.last_name,\" + \\\n",
    "\" email = t.email,\" + \\\n",
    "\" gender = t.gender,\" + \\\n",
    "\" ip_address = t.ip_address\" + \\\n",
    "\" FROM temp t WHERE CustomerDetails.id = t.id\"\n",
    "\n",
    "with engine.begin() as conn:\n",
    "    conn.execute(text(sql))"
   ]
  }
 ],
 "metadata": {
  "kernelspec": {
   "display_name": "Python 3 (ipykernel)",
   "language": "python",
   "name": "python3"
  },
  "language_info": {
   "codemirror_mode": {
    "name": "ipython",
    "version": 3
   },
   "file_extension": ".py",
   "mimetype": "text/x-python",
   "name": "python",
   "nbconvert_exporter": "python",
   "pygments_lexer": "ipython3",
   "version": "3.10.4"
  }
 },
 "nbformat": 4,
 "nbformat_minor": 5
}
